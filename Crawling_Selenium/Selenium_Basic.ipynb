{
 "cells": [
  {
   "cell_type": "markdown",
   "metadata": {},
   "source": [
    "## <u>Selenium_Basic</u>\n",
    "\n",
    "---\n",
    "### [ 1. 로그인이 필요한 웹페이지 크롤링 이해 및 실습 ]\n",
    "- javascript등 코드를 이용해야 해서 쉽지 않다.\n",
    "- 다른 방법 (하단)\n",
    "\n",
    "### [ 2. 브라우저를 제어해서 크롤링을 하는 방법 ]\n",
    "- 브라우저에서 하는 작업을 프로그래밍으로 하도록 만들면 쉽게 로그인 가능\n",
    "\n",
    "### [ 3. Selenium ]\n",
    "- Selenium : 웹을 테스트하기 위한 프레임 워크\n",
    "- 공식홈페이지 : https://www.selenium.dev/\n",
    "- Selenium with Python : https://selenium-python.readthedocs.io/index.html\n",
    "\n",
    "### [ 4. 사전준비 (Selenium) 설치 ]\n",
    "- STEP1. Selenium 인스톨: pip install selenium\n",
    "- STEP2. 웹드라이버 인스톨: 웹 테스트 자동화를 위해 제공되는 툴(각 browser및 os 별로 존재)\n",
    "    - selenium ‑ 테스트 코드를 사용하여 브라우져에서의 액션을 테스트할 수 있게 해주는 툴\n",
    "    - Firefox, chromedriver 등 각 브라우져마다 웹드라이버 다운로드 가능\n",
    "    - https://sites.google.com/a/chromium.org/chromedriver (/Chrome 브라우저용)\n",
    "- STEP3. 설치 후, 다음 사이트에서 가장 최신 버전을 다운로드받아서, 덮어씌움\n",
    "    - https://chromedriver.storage.googleapis.com/index.html\n",
    "    - 윈도우: C:/dev_python/Webdriver/chromedriver.exe\n",
    "    - 맥: /usr/local/Cellar/chromedriver/chromedriver\n",
    "\n",
    "---\n",
    "### [ 5. Selenium 사용법 ]\n",
    "#### (1) selenium 로드"
   ]
  },
  {
   "cell_type": "code",
   "execution_count": 8,
   "metadata": {},
   "outputs": [],
   "source": [
    "# Selenium 라이브러리 임포트 (패턴화 시켜서 암기!)\n",
    "from selenium import webdriver\n",
    "from selenium.webdriver.common.keys import Keys\n",
    "\n",
    "chromedriver = 'C:/jh_python/Webdriver/chromedriver.exe'\n",
    "driver = webdriver.Chrome(chromedriver)"
   ]
  },
  {
   "cell_type": "markdown",
   "metadata": {},
   "source": [
    "- 이런식으로 크롬브라우저가 열리면 정상적으로 설치 성공!\n",
    "<img src=\"https://user-images.githubusercontent.com/53929665/93175605-d7f56880-f76a-11ea-81c5-0e9802b57d90.JPG\" alt=\"drawing\" width=\"350\"/>"
   ]
  },
  {
   "cell_type": "markdown",
   "metadata": {},
   "source": [
    "#### (2) 크롤링 사이트 호출 및 확인"
   ]
  },
  {
   "cell_type": "code",
   "execution_count": 9,
   "metadata": {},
   "outputs": [],
   "source": [
    "# 크롤링할 사이트 호출\n",
    "# 아래 코드를 실행할 경우 위의 크롬브라우저에서 자동적으로 아래 url로 이동한다.\n",
    "driver.get('http://www.python.org')\n",
    "\n",
    "# driver.title이 'Python'이 아닐 경우 오류를 내어 종료\n",
    "# (참고) 이 코드에서 print(driver.title)의 출력값은 Python이 나온다.\n",
    "assert 'Python' in driver.title"
   ]
  },
  {
   "cell_type": "markdown",
   "metadata": {},
   "source": [
    "#### (3) 데이터 가져오기 주요 함수\n",
    "- `find_element_by_name()` : 최초 발견한 name 가져오기\n",
    "- `find_elements_by_name()` :  name이 동일한 모든 <u>리스트</u> 가져오기\n",
    "\n",
    "(참고)\n",
    "- `find_element_by_tag_name()` : 태그이름(최초)\n",
    "- `find_elements_by_tag_name()` : 태그이름(모든 태그)"
   ]
  },
  {
   "cell_type": "code",
   "execution_count": 14,
   "metadata": {},
   "outputs": [],
   "source": [
    "elem = driver.find_element_by_name('q')"
   ]
  },
  {
   "cell_type": "markdown",
   "metadata": {},
   "source": [
    "- python 홈페이지에서 최초의 name('q')는 검색창에 해당한다.\n",
    "![21](https://user-images.githubusercontent.com/53929665/93180189-c5326200-f771-11ea-866e-6898625fc773.JPG)\n"
   ]
  },
  {
   "cell_type": "markdown",
   "metadata": {},
   "source": [
    "#### (4) 브라우저 컨트롤\n",
    "- `clear()` : input 텍스트 초기화\n",
    "- `send_keys(키워드)` : 키보드 입력값 전달하기\n",
    "    - 예약키워드\n",
    "        - `Keys.RETURN` : 엔터키\n",
    "        - `dir(Keys)` : 키에 대응되는 이름 찾기"
   ]
  },
  {
   "cell_type": "code",
   "execution_count": 15,
   "metadata": {},
   "outputs": [],
   "source": [
    "# input 텍스트 초기화\n",
    "elem.clear()\n",
    "\n",
    "# 키 이벤트 전송\n",
    "elem.send_keys('python')\n",
    "\n",
    "# 엔터 입력\n",
    "elem.send_keys(Keys.RETURN)"
   ]
  },
  {
   "cell_type": "markdown",
   "metadata": {},
   "source": [
    "결과 :\n",
    "![22](https://user-images.githubusercontent.com/53929665/93180901-bdbf8880-f772-11ea-8a6c-8668982ab4dc.gif)\n"
   ]
  },
  {
   "cell_type": "markdown",
   "metadata": {},
   "source": [
    "- `assert`로 `driver.page_soruce`에서 특정 키워드 확인하기\n",
    "- `time.sleep()` 함수로 일정 시간 브라우저 내용 확인할 수 있도록 하기\n",
    "- `driver.quit()` 함수로 브라우저 끝내기"
   ]
  },
  {
   "cell_type": "code",
   "execution_count": 18,
   "metadata": {},
   "outputs": [
    {
     "name": "stdout",
     "output_type": "stream",
     "text": [
      "Results\n",
      "Download Python for Other Platforms\n",
      "Python Documentation by Version\n",
      "Release – Python 2.5.3\n",
      "Python 2.5.4 Release\n",
      "Release – Python 2.5.4\n",
      "Python 2.5.3 Release\n",
      "Python 2.5 Release\n",
      "Python 2.5.2 Release\n",
      "Sunsetting Python 2\n",
      "Python 2.5.1 Release\n",
      "Release – Python 3.1.4\n",
      "Release – Python 2.5.0\n",
      "Release – Python 2.5.2\n",
      "Python 3.1.4 Release\n",
      "Python 3.1.3 Release\n",
      "Release – Python 2.5.1\n",
      "Python 3.2.1 Release\n",
      "Release – Python 2.7.9rc1\n",
      "Python 3.0 Release\n",
      "Python 3.2.5 Release\n"
     ]
    }
   ],
   "source": [
    "from selenium import webdriver\n",
    "from selenium.webdriver.common.keys import Keys\n",
    "import time\n",
    "\n",
    "chromedriver = 'C:/jh_python/Webdriver/chromedriver.exe'\n",
    "driver = webdriver.Chrome(chromedriver)\n",
    "\n",
    "driver.get('http://www.python.org')\n",
    "assert 'Python' in driver.title\n",
    "\n",
    "elem = driver.find_element_by_name('q')\n",
    "\n",
    "elem.clear()\n",
    "elem.send_keys('python')\n",
    "elem.send_keys(Keys.RETURN)\n",
    "\n",
    "# soruce에 'No results found.'가 없으면 오류를 안내지만 있으면 냄\n",
    "assert 'No results found.' not in driver.page_source\n",
    "\n",
    "# 명시적으로 일정시간을 기다림 (2초)\n",
    "time.sleep(2)\n",
    "\n",
    "h3s = driver.find_elements_by_tag_name('h3')\n",
    "for h3 in h3s:\n",
    "    print(h3.text)\n",
    "\n",
    "# 크롬 브라우저 닫기 기능\n",
    "driver.quit()"
   ]
  }
 ],
 "metadata": {
  "kernelspec": {
   "display_name": "Python 3",
   "language": "python",
   "name": "python3"
  },
  "language_info": {
   "codemirror_mode": {
    "name": "ipython",
    "version": 3
   },
   "file_extension": ".py",
   "mimetype": "text/x-python",
   "name": "python",
   "nbconvert_exporter": "python",
   "pygments_lexer": "ipython3",
   "version": "3.7.7"
  }
 },
 "nbformat": 4,
 "nbformat_minor": 4
}
