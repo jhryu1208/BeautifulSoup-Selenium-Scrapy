{
 "cells": [
  {
   "cell_type": "markdown",
   "metadata": {},
   "source": [
    "## [ CSS Selector 사용법 ]\n",
    "    - `select()` 안에 태그 또는 CSS class 이름등을 넣어주면 된다.\n",
    "    - 결과값은 리스트 형태로 반환된다\n",
    "    - `select()`는 `find_all()`과 동일하게 list형태로 값을 반환한다.\n",
    "---\n",
    "### (1) 간단 예제1 (태그 선택)."
   ]
  },
  {
   "cell_type": "code",
   "execution_count": 27,
   "metadata": {},
   "outputs": [
    {
     "data": {
      "text/plain": [
       "[<h3 id=\"articleTitle\">갤럭시Z폴드2, 9월1일 펴진다</h3>]"
      ]
     },
     "execution_count": 27,
     "metadata": {},
     "output_type": "execute_result"
    }
   ],
   "source": [
    "import requests\n",
    "from bs4 import BeautifulSoup\n",
    "\n",
    "url = 'https://news.naver.com/main/read.nhn?mode=LSD&mid=shm&sid1=105&oid=011&aid=0003789378'\n",
    "\n",
    "headers = {'User-Agent':'Mozilla/5.0 (Windows NT 6.3; Win64; x64) AppleWebKit/537.36 (KHTML, like Gecko) Chrome/63.0.3239.132 Safari/537.36'}\n",
    "\n",
    "res = requests.get(url, headers = headers)\n",
    "soup = BeautifulSoup(res.content, 'html.parser')\n",
    "\n",
    "# h3_find = soup.find(id = 'articleTitle')\n",
    "\n",
    "h3_select = soup.select('h3#articleTitle')\n",
    "h3_select"
   ]
  }
 ],
 "metadata": {
  "kernelspec": {
   "display_name": "Python 3",
   "language": "python",
   "name": "python3"
  },
  "language_info": {
   "codemirror_mode": {
    "name": "ipython",
    "version": 3
   },
   "file_extension": ".py",
   "mimetype": "text/x-python",
   "name": "python",
   "nbconvert_exporter": "python",
   "pygments_lexer": "ipython3",
   "version": "3.7.7"
  }
 },
 "nbformat": 4,
 "nbformat_minor": 4
}
