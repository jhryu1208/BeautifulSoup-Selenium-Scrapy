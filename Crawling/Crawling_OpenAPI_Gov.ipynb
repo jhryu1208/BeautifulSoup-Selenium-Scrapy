{
 "cells": [
  {
   "cell_type": "markdown",
   "metadata": {},
   "source": [
    "## [ 다양한 OpenAPI 사용하기 ]\n",
    "\n",
    "---\n",
    "### 정부 3.0 공공 데이터 포털 API\n",
    "- 공공 데이터 포털 가입하기\n",
    "  - https://www.data.go.kr\n",
    "  - 회원가입 -> 로그인 -> https://www.data.go.kr/dataset/3050988/openapi.do -> 활용신청\n",
    "  - 인증키를 발급받아야 함\n",
    "  - 사용법 확인\n",
    "    - https://www.data.go.kr/dataset/3050988/openapi.do -> 활용신청 메뉴 옆에 상세정보 메뉴의 참고문서 확인 (사용 방법 상세 확인)\n",
    "    - https://www.data.go.kr/dataset/3050988/openapi.do -> 활용신청 메뉴 옆에 상세정보 메뉴의 활용사례 확인 \n",
    "\n",
    "- JSON 이외에 XML 포멧으로 데이터를 다루는 경우도 많음"
   ]
  },
  {
   "cell_type": "markdown",
   "metadata": {},
   "source": [
    "---\n",
    "### (정부 공공 데이터 포털 예제) '중기 전망 조회' 크롤링\n",
    "- 중기전망조회의 참고문서에서 가져온 정보들로 크롤링\n",
    "\n",
    "\n",
    "- get 사용\n",
    "![14](https://user-images.githubusercontent.com/53929665/92747286-04059800-f3bf-11ea-9b7d-67fe710291ad.JPG)\n",
    "\n",
    "- Callback URL\n",
    "![15](https://user-images.githubusercontent.com/53929665/92747292-049e2e80-f3bf-11ea-92e0-754f7cb83c55.JPG)\n",
    "\n",
    "- 그외 옵션 (108은 전국을 의미)\n",
    "![16](https://user-images.githubusercontent.com/53929665/92747295-0536c500-f3bf-11ea-9f30-d5f5643b8ba8.JPG)\n"
   ]
  },
  {
   "cell_type": "code",
   "execution_count": 4,
   "metadata": {},
   "outputs": [
    {
     "name": "stdout",
     "output_type": "stream",
     "text": [
      "<?xml version=\"1.0\" encoding=\"UTF-8\"?>\r\n",
      "<response><header><resultCode>00</resultCode><resultMsg>NORMAL_SERVICE</resultMsg></header><body><dataType>XML</dataType><items><item><wfSv>○ (강수) 13일(일)은 강원영동에 비가 오겠습니다.\r\n",
      "○ (기온) 이번 예보기간의 낮 기온은 21~28도로 어제(24~29도)와 비슷하겠고, 아침 기온은 20도 이하로 선선하겠습니다.\r\n",
      "○ (해상) 13일(일)은 동해상에서 물결이 2~4m로 매우 높게 일겠고, 동해안은 15일(화)까지 너울에 의한 높은 물결이 해안도로나 방파제를 넘는 곳이 있겠습니다.\r\n",
      "○ (주말전망) 12일(토)은 가끔 구름많겠으나, 제주, 전남, 경상도, 강원영동은 흐리고 비가 오겠고,\r\n",
      "              13일(일) 중부지방(강원영동 제외)은 대체로 맑겠으나, 남부지방은 가끔 구름많겠고, 강원영동은 흐리고 비가 오겠습니다. \r\n",
      "              아침 기온은 16~21도, 낮 기온은 21~28도의 분포를 보이겠습니다. \r\n",
      "</wfSv></item></items><numOfRows>10</numOfRows><pageNo>1</pageNo><totalCount>1</totalCount></body></response>\r\n",
      "\n"
     ]
    }
   ],
   "source": [
    "import requests\n",
    "\n",
    "test_service_key = '9jpYQWeu572OtBVkP7lu0QJDMa7ITs3ax%2Bw5vR605KVCcNeQ94cWCeMjOKpJNZiG241pz4uF5xP%2FgbeRANZuPw%3D%3D'\n",
    "gov_openapi_url = 'http://apis.data.go.kr/1360000/MidFcstInfoService/getMidFcst?serviceKey='+test_service_key+'&stnId=108&tmFc=202009100600'\n",
    "\n",
    "res = requests.get(gov_openapi_url)\n",
    "print(res.text)"
   ]
  }
 ],
 "metadata": {
  "kernelspec": {
   "display_name": "Python 3",
   "language": "python",
   "name": "python3"
  },
  "language_info": {
   "codemirror_mode": {
    "name": "ipython",
    "version": 3
   },
   "file_extension": ".py",
   "mimetype": "text/x-python",
   "name": "python",
   "nbconvert_exporter": "python",
   "pygments_lexer": "ipython3",
   "version": "3.7.7"
  }
 },
 "nbformat": 4,
 "nbformat_minor": 4
}
