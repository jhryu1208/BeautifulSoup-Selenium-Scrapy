{
 "cells": [
  {
   "cell_type": "markdown",
   "metadata": {},
   "source": [
    "## Open API(Rest API)를 활용한 크롤링\n",
    "\n",
    "---\n",
    "### [ Open API(Rest API) ]\n",
    "\n",
    "- API : Application Programming Interface의 약자로, 특정 프로그램을 만들기 위해 제공되는 모듈(함수 등)을 의미\n",
    "- Open API : 공개 API라고도 불리우며, 누구나 사용할 수 있도록 공개된 API ( Rest API를 누구나 받게끔 ~ )\n",
    "- Rest API : Representational State Transfer API의 약자로, HTTP프로토콜을 통해 서버 제공 기능을 사용할 수 있는 함수를 의미\n",
    "    - 일반적으로 XML, JSON의 형태로 응답을 전달 (원하는 데이터 추출이 수월)\n",
    "\n",
    "---\n",
    "### [ JSON ]\n",
    "\n",
    "---\n",
    "### [ 네이버 검색 Open API를 이용한 크롤링 실습 ]\n",
    "\n",
    "#### 이용관련 참조\n",
    "> - https://developers.naver.com/main/\n",
    "> - [블로그 검색 가이드 문서](https://developers.naver.com/docs/search/blog/)\n",
    "> - [네이버 Open API 이용신청](http://hnark.tistory.com/135)\n",
    "> - [postman 설치](https://www.getpostman.com/downloads/)\n",
    "\n",
    "#### 에러관련 참조\n",
    "> - [참고: 네이버 Open API HTTP 응답 상태 에러 코드 목록1](https://developers.naver.com/docs/common/openapiguide/#/errorcode.md)\n",
    "> - [참고: 일반적인 HTTP 응답 상태 코드](http://ooz.co.kr/260)\n",
    "\n",
    "\n",
    "#### 사용법\n",
    "1. postman 가입\n",
    "2. GET에 검색&사용하고자하는 OpenAPI주소를 쓰고싶음 옵션과 함께 삽입\n",
    "3. Headers로 이동해서  \n",
    "    `X-Naver-Client-id` key에 자신의 Naver OpenAPi Client ID 기입  \n",
    "    `X-Naver_Client-Secret` key에 자신의 Naver OpenApi Client Secret 기입\n",
    "4. Send\n",
    "\n",
    "![8](https://user-images.githubusercontent.com/53929665/92249818-98768300-ef05-11ea-858e-765d7924e7ac.JPG)\n"
   ]
  }
 ],
 "metadata": {
  "kernelspec": {
   "display_name": "Python 3",
   "language": "python",
   "name": "python3"
  },
  "language_info": {
   "codemirror_mode": {
    "name": "ipython",
    "version": 3
   },
   "file_extension": ".py",
   "mimetype": "text/x-python",
   "name": "python",
   "nbconvert_exporter": "python",
   "pygments_lexer": "ipython3",
   "version": "3.7.7"
  }
 },
 "nbformat": 4,
 "nbformat_minor": 4
}
