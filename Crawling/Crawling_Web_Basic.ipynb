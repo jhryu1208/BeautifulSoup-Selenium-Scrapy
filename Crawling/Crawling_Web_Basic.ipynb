{
 "cells": [
  {
   "cell_type": "markdown",
   "metadata": {},
   "source": [
    "## [ 1. Web 페이지 크롤링 ]\n",
    "### (1) 기본 라이브러리 import"
   ]
  },
  {
   "cell_type": "code",
   "execution_count": 2,
   "metadata": {},
   "outputs": [],
   "source": [
    "import requests\n",
    "from bs4 import BeautifulSoup"
   ]
  },
  {
   "cell_type": "markdown",
   "metadata": {},
   "source": [
    "---\n",
    "### (2) 웹페이지 코드 가져오기\n",
    "- <b>`requests`</b> 라이브러리를 활용한 HTML 페이지 요청\n",
    "    - res 객체에 HTML 데이터가 저장되고, res.content로 데이터를 추출할 수 있다."
   ]
  },
  {
   "cell_type": "code",
   "execution_count": 3,
   "metadata": {},
   "outputs": [],
   "source": [
    "res = requests.get('http://www.futurekorea.co.kr/news/articleView.html?idxno=138720')"
   ]
  },
  {
   "cell_type": "markdown",
   "metadata": {},
   "source": [
    "---\n",
    "###  (3) 웹페이지 (HTML 파일) 자동 분석 라이브러리 \n",
    "\n",
    "\n",
    "- <b>파싱(parsing)</b> : 문자열의 의미 분석\n",
    "- <b>크롤링에서 의미하는 파싱(parsing)</b> : HTML 파일의 코드를 분석해서 웹브라우저의 외관에 어디에 어떻게 변환되는지 찾아내는 방법  \n",
    "- <b>파싱(parsing) 작업을 진행해주는 라이브러리 : `bs4` </b>\n",
    "    - bs4 라이브러리 안에서도 실제 파싱 작업을 담당하는 함수는 <b>`BeautifulSoup`</b>이다."
   ]
  },
  {
   "cell_type": "code",
   "execution_count": 4,
   "metadata": {},
   "outputs": [],
   "source": [
    "soup = BeautifulSoup(res.content, 'html.parser')"
   ]
  },
  {
   "cell_type": "markdown",
   "metadata": {},
   "source": [
    "---\n",
    "### (4) Tag 내용 출력\n",
    "- 만약 위 웹사이트 기사의 큰 제목을 가져오고 싶을경우, 해당 기사의 제목을 페이지 소스에서 찾게되면 다양한 태그가 함께 검색되는 것을 볼 수 있다.\n",
    "\n",
    "\n",
    "- 그 중 <b>`meta`</b> 태그는 기사의 제목을 의미하는 것이 아니다.\n",
    "\n",
    "\n",
    "- <b>`meta`</b> : 해당 내용을 가진 페이지라는 것을 검색 엔지에 알려주는 용도로 쓰이는 태그이다. (겉으로 표출되는 태그가 아니기 때문에 <head>사이에 사용된다.)\n",
    "\n",
    "    \n",
    "- 보통 웹에서 겉으로 드러나는 제목은 <b>`h3`</b>,<b>`h2`</b>,<b>`h1`</b>등의 태그를 가진다.\n",
    "\n",
    "    \n",
    "- 하지만, 이 기사에서는 다음과 같은 태그를 가진 코드가 기사의 제목이다.\n",
    "![1](https://user-images.githubusercontent.com/53929665/91277920-71f67080-e7be-11ea-8bff-8060c6aa0f34.JPG)\n"
   ]
  },
  {
   "cell_type": "code",
   "execution_count": 5,
   "metadata": {},
   "outputs": [
    {
     "data": {
      "text/plain": [
       "'[브랜드평판]  제약 상장기업 브랜드 2020년 8월 빅데이터 분석결과...1위 삼성바이오로직스, 2위 셀트리온, 3위 신풍제약'"
      ]
     },
     "execution_count": 5,
     "metadata": {},
     "output_type": "execute_result"
    }
   ],
   "source": [
    "title = soup.find('div', 'article-head-title')\n",
    "title.get_text()"
   ]
  },
  {
   "cell_type": "markdown",
   "metadata": {},
   "source": [
    "- <b>다음의 밑줄친 정보를 가져오고 싶은 경우</b>\n",
    "\n",
    "<img src=\"https://user-images.githubusercontent.com/53929665/91280819-47a6b200-e7c2-11ea-9353-0e32a4ebe1c1.JPG\" alt=\"drawing\" width=\"300\"/>\n",
    "\n",
    "<img src=\"https://user-images.githubusercontent.com/53929665/91280731-25ad2f80-e7c2-11ea-911e-82b6509d4424.JPG\" alt=\"drawing\" width=\"500\"/>\n"
   ]
  },
  {
   "cell_type": "code",
   "execution_count": null,
   "metadata": {},
   "outputs": [],
   "source": []
  },
  {
   "cell_type": "markdown",
   "metadata": {},
   "source": [
    "- <b>기자 내용의 요약 내용을 meta 태그에서 가져오고 싶은 경우</b>\n",
    "![4](https://user-images.githubusercontent.com/53929665/91381995-ad974600-e863-11ea-9dc8-a456632667dd.JPG)\n"
   ]
  },
  {
   "cell_type": "code",
   "execution_count": 48,
   "metadata": {},
   "outputs": [
    {
     "name": "stdout",
     "output_type": "stream",
     "text": [
      "제약 상장기업 브랜드평판 2020년 8월 빅데이터분석 결과, 1위 삼성바이오로직스 2위 셀트리온 3위 신풍제약 순으로 분석었다. ​​한국기업평판연구소는 2020년 7월 24일부터 2020년 8월 24일까지의 122개 제약 상장기업 브랜드 빅데이터 130,434,008개를 분석하여 소비자와 브랜드의 관계 분석을 하였다. 지난 2020년 7월 브랜드 빅데이터 123,646,140개와 비교하면 5.49% 증가했다.​브랜드에 대한 평판지수는 브랜드에 대한 소비자들의 활동 빅데이터를 참여가치, 소통가치, 소셜가치, 시장가치, 재무가치로 나누\n"
     ]
    }
   ],
   "source": [
    "p = soup.find('meta', attrs = {'name':'description'})\n",
    "print(p['content'])"
   ]
  },
  {
   "cell_type": "markdown",
   "metadata": {},
   "source": [
    "## [ 2. 네이버 IT 헤드라인 뉴스 타이틀  크롤링 ]"
   ]
  },
  {
   "cell_type": "code",
   "execution_count": 50,
   "metadata": {},
   "outputs": [
    {
     "name": "stdout",
     "output_type": "stream",
     "text": [
      "건물·자동차에…페인트처럼 칠하는 '태양전지' 나왔다\n",
      "페인트처럼 칠하면 전기 만드는 태양전지 나왔다\n",
      "\"도심 빌딩 유리창으로 태양광 발전\"...KETI, 고효율 투명 태양전지 개발\n",
      "페인트처럼 칠해 태양전지 만든다\n",
      "LG 벨벳 내달 멕시코·브라질 출시..중남미 본격 공략\n",
      "'LG 벨벳' 중남미 상륙…연내 30개국 출시 확대\n",
      "네이버·네이트 스포츠뉴스, 오늘부터 댓글창 없앤다\n",
      "네이버-네이트, 오늘부터 스포츠 뉴스 댓글 ‘잠정 중단’\n",
      "軍 출신 권현 KAIST 박사졸업생, 3년간 26편 논문 게재 눈길\n",
      "군 복무하며 SCI 14편 등 26편 발표…권현 소령 KAIST 박사 졸업\n",
      "LG유플러스, 유기동물 보호 SNS 캠페인 진행\n",
      "LGU+ \"반려동물, 사지말고 입양하세요\"\n"
     ]
    }
   ],
   "source": [
    "import requests\n",
    "from bs4 import BeautifulSoup\n",
    "\n",
    "res = requests.get(\"https://news.naver.com/main/main.nhn?mode=LSD&mid=shm&sid1=105\")\n",
    "soup = BeautifulSoup(res.content, 'html.parser')\n",
    "\n",
    "data = soup.find_all('a', class_='cluster_text_headline nclicks(cls_sci.clsart)')\n",
    "\n",
    "for item in data:\n",
    "    print(item.get_text())"
   ]
  },
  {
   "cell_type": "markdown",
   "metadata": {},
   "source": [
    "## [ 3. 네이버 실시간 검색어 크롤링 ]\n",
    "---\n",
    "\n",
    "> <b><주의!!!!></b>  \n",
    "> 네이버 측에서 크롤러를 막기 위해서 해더값을 체크하기 때문에  \n",
    "> 일반 브라우저와 같이 요청하기 위해 해더값을 따로 설정해준다.\n",
    "> 참조 링크 : https://blog.naver.com/kiddwannabe/221185808375"
   ]
  },
  {
   "cell_type": "code",
   "execution_count": 105,
   "metadata": {},
   "outputs": [
    {
     "name": "stdout",
     "output_type": "stream",
     "text": [
      "1위 : 태풍 마이삭\n",
      "2위 : 배슬기\n",
      "3위 : 심리섭\n",
      "4위 : 광주 3단계\n",
      "5위 : 조수애\n",
      "6위 : 시무7조\n",
      "7위 : 김유성\n",
      "8위 : 태풍 바비 위치\n",
      "9위 : 기면증\n",
      "10위 : 박서원\n",
      "11위 : 코로나 라이브\n",
      "12위 : 진천군청\n",
      "13위 : 벤\n",
      "14위 : 캡사이신\n",
      "15위 : 신소율\n",
      "16위 : 신소율 남편\n",
      "17위 : 구로구 아파트\n",
      "18위 : 광주\n",
      "19위 : 신봉선 캡사이신\n",
      "20위 : 리섭\n"
     ]
    }
   ],
   "source": [
    "import requests\n",
    "\n",
    "from bs4 import BeautifulSoup\n",
    "\n",
    "# 유저 정보 표기 \n",
    "headers = {'User-Agent':'Mozilla/5.0 (Windows NT 6.3; Win64; x64) AppleWebKit/537.36 (KHTML, like Gecko) Chrome/63.0.3239.132 Safari/537.36'}\n",
    "\n",
    "url = 'https://datalab.naver.com/keyword/realtimeList.naver?where=main'\n",
    "\n",
    "# 해더 적용\n",
    "res = requests.get(url, headers = headers)\n",
    "\n",
    "soup = BeautifulSoup(res.content, 'html.parser')\n",
    "\n",
    "data = soup.findAll('span','item_title')\n",
    "\n",
    "i = 1\n",
    "\n",
    "for item in data:\n",
    "    print(str(i) +'위 : ' + item.get_text())\n",
    "    i=i+1"
   ]
  }
 ],
 "metadata": {
  "kernelspec": {
   "display_name": "Python 3",
   "language": "python",
   "name": "python3"
  },
  "language_info": {
   "codemirror_mode": {
    "name": "ipython",
    "version": 3
   },
   "file_extension": ".py",
   "mimetype": "text/x-python",
   "name": "python",
   "nbconvert_exporter": "python",
   "pygments_lexer": "ipython3",
   "version": "3.7.7"
  }
 },
 "nbformat": 4,
 "nbformat_minor": 4
}
