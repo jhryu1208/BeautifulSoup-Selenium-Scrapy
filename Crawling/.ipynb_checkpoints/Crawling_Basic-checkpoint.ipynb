{
 "cells": [
  {
   "cell_type": "markdown",
   "metadata": {},
   "source": [
    "## [ 1. 크롤링 fast view ]\n",
    "\n",
    "1. 크롤링할 html 코드를 가져온다. (request.get())\n",
    "2. 파싱한다. (BeautifulSoup(res.content, 'html.parser')\n",
    "3. 특정 데이터 선택\n",
    "4. 출력(get_text())"
   ]
  },
  {
   "cell_type": "code",
   "execution_count": 4,
   "metadata": {},
   "outputs": [
    {
     "name": "stdout",
     "output_type": "stream",
     "text": [
      " [1] 크롤링이란?\n"
     ]
    }
   ],
   "source": [
    "import requests\n",
    "from bs4 import BeautifulSoup\n",
    "\n",
    "res = \"<html>\\\n",
    "            <body>\\\n",
    "                <h1 id = 'title'> [1] 크롤링이란?</h1>\\\n",
    "                <p class = 'cssstly'> 웹페이지에서 필요한 데이터를 추출하는 것</p>\\\n",
    "                <p id = 'body' align='center'>파이썬을 중심으로 다양한 웹크롤링 기술 발달</p>\\\n",
    "            </body>\\\n",
    "        </html>\"\n",
    "\n",
    "soup = BeautifulSoup(res, 'html.parser')\n",
    "data = soup.find('h1')\n",
    "print(data.get_text())"
   ]
  },
  {
   "cell_type": "markdown",
   "metadata": {},
   "source": [
    "## [ 2. Web 페이지 크롤링 ]\n",
    "### (1) 기본 라이브러리 import"
   ]
  },
  {
   "cell_type": "code",
   "execution_count": 2,
   "metadata": {},
   "outputs": [],
   "source": [
    "import requests\n",
    "from bs4 import BeautifulSoup"
   ]
  },
  {
   "cell_type": "markdown",
   "metadata": {},
   "source": [
    "---\n",
    "### (2) 웹페이지 코드 가져오기\n",
    "- <b>`requests`</b> 라이브러리를 활용한 HTML 페이지 요청\n",
    "    - res 객체에 HTML 데이터가 저장되고, res.content로 데이터를 추출할 수 있다."
   ]
  },
  {
   "cell_type": "code",
   "execution_count": 3,
   "metadata": {},
   "outputs": [],
   "source": [
    "res = requests.get('http://www.futurekorea.co.kr/news/articleView.html?idxno=138720')"
   ]
  },
  {
   "cell_type": "markdown",
   "metadata": {},
   "source": [
    "---\n",
    "###  (3) 웹페이지 (HTML 파일) 자동 분석 라이브러리 \n",
    "\n",
    "\n",
    "- <b>파싱(parsing)</b> : 문자열의 의미 분석\n",
    "- <b>크롤링에서 의미하는 파싱(parsing)</b> : HTML 파일의 코드를 분석해서 웹브라우저의 외관에 어디에 어떻게 변환되는지 찾아내는 방법  \n",
    "- <b>파싱(parsing) 작업을 진행해주는 라이브러리 : `bs4` </b>\n",
    "    - bs4 라이브러리 안에서도 실제 파싱 작업을 담당하는 함수는 <b>`BeautifulSoup`</b>이다."
   ]
  },
  {
   "cell_type": "code",
   "execution_count": 3,
   "metadata": {},
   "outputs": [],
   "source": [
    "soup = BeautifulSoup(res.content, 'html.parser')"
   ]
  },
  {
   "cell_type": "code",
   "execution_count": 10,
   "metadata": {},
   "outputs": [
    {
     "data": {
      "text/plain": [
       "'[브랜드평판]  제약 상장기업 브랜드 2020년 8월 빅데이터 분석결과...1위 삼성바이오로직스, 2위 셀트리온, 3위 신풍제약 - 미래한국 Weekly'"
      ]
     },
     "execution_count": 10,
     "metadata": {},
     "output_type": "execute_result"
    }
   ],
   "source": [
    "title = soup.find('title')\n",
    "title.get_text()"
   ]
  }
 ],
 "metadata": {
  "kernelspec": {
   "display_name": "Python 3",
   "language": "python",
   "name": "python3"
  },
  "language_info": {
   "codemirror_mode": {
    "name": "ipython",
    "version": 3
   },
   "file_extension": ".py",
   "mimetype": "text/x-python",
   "name": "python",
   "nbconvert_exporter": "python",
   "pygments_lexer": "ipython3",
   "version": "3.7.7"
  }
 },
 "nbformat": 4,
 "nbformat_minor": 4
}
