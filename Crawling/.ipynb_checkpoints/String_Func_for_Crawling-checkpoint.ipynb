{
 "cells": [
  {
   "cell_type": "markdown",
   "metadata": {},
   "source": [
    "## [ 크롤링을 위한 문자열 함수 ]\n",
    "---\n",
    "> 문자열 복습, https://github.com/jhryu1208/Python-Study-Basic"
   ]
  },
  {
   "cell_type": "markdown",
   "metadata": {},
   "source": [
    "### (1) 문자열에 있는 특정 문자 갯수 세기 (count 함수)"
   ]
  },
  {
   "cell_type": "code",
   "execution_count": 2,
   "metadata": {},
   "outputs": [
    {
     "name": "stdout",
     "output_type": "stream",
     "text": [
      "문자열에 jhryu1208은 몇 번 나올까? : \n",
      "1\n",
      "\n",
      "문자열에 j는 몇번 나올까? : \n",
      "2\n"
     ]
    }
   ],
   "source": [
    "data = 'jihyun jhryu1208'\n",
    "\n",
    "print('문자열에 jhryu1208은 몇 번 나올까? : ')\n",
    "print(data.count('jhryu1208'))\n",
    "\n",
    "print()\n",
    "\n",
    "print('문자열에 j는 몇번 나올까? : ')\n",
    "print(data.count('j'))"
   ]
  },
  {
   "cell_type": "markdown",
   "metadata": {},
   "source": [
    "### (2) 문자열에 있는 특정 문자의 위치 (index 함수)"
   ]
  },
  {
   "cell_type": "code",
   "execution_count": 5,
   "metadata": {},
   "outputs": [
    {
     "name": "stdout",
     "output_type": "stream",
     "text": [
      "string에 있는 D의 위치 확인 : \n",
      "8\n",
      "string에 있는 X의 위치 확인 : \n"
     ]
    },
    {
     "ename": "ValueError",
     "evalue": "substring not found",
     "output_type": "error",
     "traceback": [
      "\u001b[1;31m---------------------------------------------------------------------------\u001b[0m",
      "\u001b[1;31mValueError\u001b[0m                                Traceback (most recent call last)",
      "\u001b[1;32m<ipython-input-5-beeeb47469d4>\u001b[0m in \u001b[0;36m<module>\u001b[1;34m\u001b[0m\n\u001b[0;32m      7\u001b[0m \u001b[1;31m# 해당 문자가 없으면 에러발생\u001b[0m\u001b[1;33m\u001b[0m\u001b[1;33m\u001b[0m\u001b[1;33m\u001b[0m\u001b[0m\n\u001b[0;32m      8\u001b[0m \u001b[0mprint\u001b[0m\u001b[1;33m(\u001b[0m\u001b[1;34m'string에 있는 X의 위치 확인 : '\u001b[0m\u001b[1;33m)\u001b[0m\u001b[1;33m\u001b[0m\u001b[1;33m\u001b[0m\u001b[0m\n\u001b[1;32m----> 9\u001b[1;33m \u001b[0mprint\u001b[0m\u001b[1;33m(\u001b[0m\u001b[0mstring\u001b[0m\u001b[1;33m.\u001b[0m\u001b[0mindex\u001b[0m\u001b[1;33m(\u001b[0m\u001b[1;34m'X'\u001b[0m\u001b[1;33m)\u001b[0m\u001b[1;33m)\u001b[0m\u001b[1;33m\u001b[0m\u001b[1;33m\u001b[0m\u001b[0m\n\u001b[0m",
      "\u001b[1;31mValueError\u001b[0m: substring not found"
     ]
    }
   ],
   "source": [
    "string = 'jihyun ID is jhryu1208'\n",
    "\n",
    "# 가장 먼저 나오는 위치를 알려준다.\n",
    "print('string에 있는 D의 위치 확인 : ')\n",
    "print(string.index('D'))\n",
    "\n",
    "# 해당 문자가 없으면 에러발생\n",
    "print('string에 있는 X의 위치 확인 : ')\n",
    "print(string.index('X'))"
   ]
  },
  {
   "cell_type": "markdown",
   "metadata": {},
   "source": [
    "### (3) 해당 문자가 문자열에 없을 때, 에러가 안나는 함수 (find 함수)\n",
    "\n",
    "- find 함수는 해당 문자가 문자열에 없으면 `-1`을 리턴한다. <b>(에러는 발생x)</b>\n",
    "- 이외에는 index 함수와 동일하다."
   ]
  },
  {
   "cell_type": "code",
   "execution_count": 8,
   "metadata": {},
   "outputs": [],
   "source": [
    "string = 'jhryu1208 is jihyun'"
   ]
  },
  {
   "cell_type": "code",
   "execution_count": 9,
   "metadata": {},
   "outputs": [
    {
     "data": {
      "text/plain": [
       "13"
      ]
     },
     "execution_count": 9,
     "metadata": {},
     "output_type": "execute_result"
    }
   ],
   "source": [
    "# jihyun이라는 문자열이 시작되는 위치의 index를 반환\n",
    "string.find('jihyun')"
   ]
  },
  {
   "cell_type": "code",
   "execution_count": 10,
   "metadata": {},
   "outputs": [
    {
     "name": "stdout",
     "output_type": "stream",
     "text": [
      "x는 해당 스트링에 없습니다\n"
     ]
    }
   ],
   "source": [
    "if string.find('X')==-1:\n",
    "    print('x는 해당 스트링에 없습니다')"
   ]
  },
  {
   "cell_type": "markdown",
   "metadata": {},
   "source": [
    "### (4) 문자열 사이에 다른 문자 넣기 (join 함수)\n",
    "![5](https://user-images.githubusercontent.com/53929665/91415126-8b63ef00-e888-11ea-8d61-156e7968e493.JPG)\n"
   ]
  },
  {
   "cell_type": "code",
   "execution_count": 19,
   "metadata": {},
   "outputs": [
    {
     "name": "stdout",
     "output_type": "stream",
     "text": [
      "join 함수안에 들어간 문자열 변수에 comma가 추가됨 : \n",
      "1,2,3,4,5\n",
      "\n",
      "comma 변수는 틈이 없기 때문에 ,만 출력됨 : \n",
      ",\n",
      "\n",
      "string1의 변수에 저장된 문자열이 string 변수의 문자열 사이사이에 들어감 : \n",
      "1abcd2abcd3abcd4abcd5\n"
     ]
    }
   ],
   "source": [
    "string = '12345'\n",
    "string1 = 'abcd'\n",
    "comma = ','\n",
    "\n",
    "\n",
    "print('join 함수안에 들어간 문자열 변수에 comma가 추가됨 : ')\n",
    "print(comma.join(string))\n",
    "\n",
    "print()\n",
    "\n",
    "print('comma 변수는 틈이 없기 때문에 ,만 출력됨 : ')\n",
    "print(string.join(comma))\n",
    "\n",
    "print()\n",
    "\n",
    "print('string1의 변수에 저장된 문자열이 string 변수의 문자열 사이사이에 들어감 : ')\n",
    "print(string1.join(string))"
   ]
  },
  {
   "cell_type": "markdown",
   "metadata": {},
   "source": [
    "### (5) 문자열 앞뒤에 공백 지우기 (strip 함수)\n",
    "- 실제 현실의 문자열 데이터를 정리하다보면, 문자열 앞뒤에 공백 또는 기호가 있는 경우가 많다."
   ]
  },
  {
   "cell_type": "markdown",
   "metadata": {},
   "source": [
    "####  문자열의 앞뒤에 있는 공백을 다 지움"
   ]
  },
  {
   "cell_type": "code",
   "execution_count": 20,
   "metadata": {},
   "outputs": [
    {
     "data": {
      "text/plain": [
       "'jihyun'"
      ]
     },
     "execution_count": 20,
     "metadata": {},
     "output_type": "execute_result"
    }
   ],
   "source": [
    "data = ' jihyun '\n",
    "data.strip()"
   ]
  },
  {
   "cell_type": "markdown",
   "metadata": {},
   "source": [
    "#### 앞 뒤 공백이 여러개 있어도 한번에 다 지움"
   ]
  },
  {
   "cell_type": "code",
   "execution_count": 24,
   "metadata": {},
   "outputs": [
    {
     "data": {
      "text/plain": [
       "'jihyun'"
      ]
     },
     "execution_count": 24,
     "metadata": {},
     "output_type": "execute_result"
    }
   ],
   "source": [
    "data = '           jihyun     '\n",
    "data.strip()"
   ]
  },
  {
   "cell_type": "markdown",
   "metadata": {},
   "source": [
    "#### 문자열의 왼쪽 공백만 지우기 ( left strip의 약자 )"
   ]
  },
  {
   "cell_type": "code",
   "execution_count": 25,
   "metadata": {},
   "outputs": [
    {
     "data": {
      "text/plain": [
       "'jihyun     '"
      ]
     },
     "execution_count": 25,
     "metadata": {},
     "output_type": "execute_result"
    }
   ],
   "source": [
    "data = '           jihyun     '\n",
    "data.lstrip()"
   ]
  },
  {
   "cell_type": "markdown",
   "metadata": {},
   "source": [
    "#### 문자열의 오른쪽 공백만 지우기 ( right strip의 약자 )"
   ]
  },
  {
   "cell_type": "code",
   "execution_count": 26,
   "metadata": {},
   "outputs": [
    {
     "data": {
      "text/plain": [
       "'           jihyun'"
      ]
     },
     "execution_count": 26,
     "metadata": {},
     "output_type": "execute_result"
    }
   ],
   "source": [
    "data = '           jihyun     '\n",
    "data.rstrip()"
   ]
  },
  {
   "cell_type": "markdown",
   "metadata": {},
   "source": [
    "#### 문자열에서 원하는 문자/단어를 제외하고 지우기"
   ]
  },
  {
   "cell_type": "code",
   "execution_count": 27,
   "metadata": {},
   "outputs": [
    {
     "data": {
      "text/plain": [
       "'jihyun'"
      ]
     },
     "execution_count": 27,
     "metadata": {},
     "output_type": "execute_result"
    }
   ],
   "source": [
    "data = '         999999999900000(jihyun)0000002222' # 띄어쓰기,9,0,2,(,) 를 지우고 싶음\n",
    "data.strip(' ()902') # 지우고싶은 것을 그대로 strip함수안에!!"
   ]
  },
  {
   "cell_type": "markdown",
   "metadata": {},
   "source": [
    "### (6) 영문자 대소문자 변환\n",
    "- 대소문자를 구별하기 때문에,대소문자 구별하지 않고 처리를 하기 위해 임의로 대문자 또는 소문자로 다 바꿀 때가 있다."
   ]
  },
  {
   "cell_type": "markdown",
   "metadata": {},
   "source": [
    "#### 소문자를 대문자로 바꾸기"
   ]
  },
  {
   "cell_type": "code",
   "execution_count": 28,
   "metadata": {},
   "outputs": [
    {
     "data": {
      "text/plain": [
       "'JIHYUN'"
      ]
     },
     "execution_count": 28,
     "metadata": {},
     "output_type": "execute_result"
    }
   ],
   "source": [
    "string = 'jihyun'\n",
    "string.upper()"
   ]
  },
  {
   "cell_type": "markdown",
   "metadata": {},
   "source": [
    "#### 대문자를 소문자로 바꾸기"
   ]
  },
  {
   "cell_type": "code",
   "execution_count": 29,
   "metadata": {},
   "outputs": [
    {
     "data": {
      "text/plain": [
       "'jihyun'"
      ]
     },
     "execution_count": 29,
     "metadata": {},
     "output_type": "execute_result"
    }
   ],
   "source": [
    "string = 'JIHYUN'\n",
    "string.lower()"
   ]
  },
  {
   "cell_type": "markdown",
   "metadata": {},
   "source": [
    "### (7) 문자열 나누기\n",
    "- split() 인자를 넣지 않으면 디폴트로 스페이스를 기준으로 분리\n",
    "- split() 인자를 넣으면 해당 인자를 기준으로 분리"
   ]
  },
  {
   "cell_type": "code",
   "execution_count": 30,
   "metadata": {},
   "outputs": [
    {
     "data": {
      "text/plain": [
       "['jihyun', 'goes', 'to', 'home']"
      ]
     },
     "execution_count": 30,
     "metadata": {},
     "output_type": "execute_result"
    }
   ],
   "source": [
    "string = 'jihyun goes to home'\n",
    "string.split()\n",
    "# 명시적으로 스페이스를 기준으로 분리하겠다고 보여주기 위해서\n",
    "# 다음과 같이 작성해도 된다.\n",
    "# string.split(' ')"
   ]
  },
  {
   "cell_type": "code",
   "execution_count": 31,
   "metadata": {},
   "outputs": [
    {
     "data": {
      "text/plain": [
       "['jihyun', 'goes', 'to', 'home']"
      ]
     },
     "execution_count": 31,
     "metadata": {},
     "output_type": "execute_result"
    }
   ],
   "source": [
    "string = 'jihyun-goes-to-home'\n",
    "string.split('-')"
   ]
  },
  {
   "cell_type": "code",
   "execution_count": 32,
   "metadata": {},
   "outputs": [
    {
     "data": {
      "text/plain": [
       "['10', '11', '22', '33', '44']"
      ]
     },
     "execution_count": 32,
     "metadata": {},
     "output_type": "execute_result"
    }
   ],
   "source": [
    "string = '10,11,22,33,44'\n",
    "string.split(',')"
   ]
  },
  {
   "cell_type": "markdown",
   "metadata": {},
   "source": [
    "- 위의 문자열 리스트인 string을 숫자열 리스트로 바꾸기"
   ]
  },
  {
   "cell_type": "code",
   "execution_count": 34,
   "metadata": {},
   "outputs": [
    {
     "name": "stdout",
     "output_type": "stream",
     "text": [
      "[10, 11, 22, 33, 44]\n"
     ]
    }
   ],
   "source": [
    "string = '10,11,22,33,44'\n",
    "string_list = string.split(',')\n",
    "\n",
    "for index, string_data in enumerate(string_list):\n",
    "    string_list[index] = int(string_data)\n",
    "    \n",
    "print(string_list)"
   ]
  }
 ],
 "metadata": {
  "kernelspec": {
   "display_name": "Python 3",
   "language": "python",
   "name": "python3"
  },
  "language_info": {
   "codemirror_mode": {
    "name": "ipython",
    "version": 3
   },
   "file_extension": ".py",
   "mimetype": "text/x-python",
   "name": "python",
   "nbconvert_exporter": "python",
   "pygments_lexer": "ipython3",
   "version": "3.7.7"
  }
 },
 "nbformat": 4,
 "nbformat_minor": 4
}
