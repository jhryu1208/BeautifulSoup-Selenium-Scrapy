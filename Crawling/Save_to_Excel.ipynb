{
 "cells": [
  {
   "cell_type": "markdown",
   "metadata": {},
   "source": [
    "## [ 엑셀 파일 저장하기 (openpyxl 활용) ]\n",
    "\n",
    "### (1) 기본\n",
    "\n",
    "- 참조 : https://blog.naver.com/cuorej/221790465895\n",
    "\n",
    "\n",
    "- workbook변수 = <b>`openpyxl.Workbook()`</b>  \n",
    "    : excel 파일 생성 (워크북 생성)\n",
    "    \n",
    "    \n",
    "- sheet변수 = workbook변수<b>`.active`</b>    \n",
    "    : 시트활성화 (첫번째 sheet 활성화)\n",
    "    \n",
    "    \n",
    "- sheet변수 = workbook변수<b>`.create_sheet('새로운시트이름')`</b>  \n",
    "    : 새로운 시트 만들기  \n",
    "    \n",
    "    \n",
    "- sheet변수<b>`.title`</b> = 변경한시트이름   \n",
    "    : sheet변수의 시트 이름 바꾸기\n",
    "\n",
    "\n",
    "- cell변수 = <b>`sheet변수['셀위치']`</b>  \n",
    "    : 해당 셀위치에 저장되어있는 정보를 cell 변수에 저장하기\n",
    "\n",
    "\n",
    "- workbook변수<b>`.save('filename.xlsx')`</b>  \n",
    "    : 워크북을 filename으로 저장(또는 생성)\n",
    " "
   ]
  },
  {
   "cell_type": "code",
   "execution_count": 6,
   "metadata": {},
   "outputs": [],
   "source": [
    "import openpyxl\n",
    "\n",
    "excel_file = openpyxl.Workbook() # excel 파일 생성\n",
    "excel_sheet = excel_file.active  # default sheet를 활성화하여 excel_sheet변수에 저장\n",
    "excel_sheet.column_dimensions['B'].width=100 # B열의 크기 100으로 설정\n",
    "\n",
    "for index in range(10):\n",
    "    excel_sheet.append([index, 'hello openpyxl'])\n",
    "\n",
    "excel_file.save('test_openpyxl.xlsx')\n",
    "excel_file.close() # 열어주면 닫아주는게 예의"
   ]
  },
  {
   "cell_type": "markdown",
   "metadata": {},
   "source": [
    "결과 : \n",
    "![12](https://user-images.githubusercontent.com/53929665/92593267-cbd95900-f2db-11ea-8d4e-3f54adb49894.JPG)\n"
   ]
  },
  {
   "cell_type": "markdown",
   "metadata": {},
   "source": [
    "### (2) 네이버 쇼핑 데이터를 엑셀파일로 저장하기"
   ]
  },
  {
   "cell_type": "code",
   "execution_count": 16,
   "metadata": {},
   "outputs": [],
   "source": [
    "import requests\n",
    "import openpyxl\n",
    "\n",
    "naver_shop_excel_file = openpyxl.Workbook()\n",
    "ws1 = naver_shop_excel_file.active\n",
    "ws1.column_dimensions['A'].width=120\n",
    "ws1.column_dimensions['B'].width=60\n",
    "# 1행에 주제명 추가\n",
    "ws1.append(['title','link','price'])\n",
    "\n",
    "\n",
    "Client_ID = '비-밀'\n",
    "Client_Secrete = '비-밀'\n",
    "naver_header = {'X-Naver-Client-Id' : Client_ID, 'X-Naver-Client-Secret' : Client_Secrete}\n",
    "\n",
    "url = '\thttps://openapi.naver.com/v1/search/shop.json?query='\n",
    "options = '&display=100&start='\n",
    "query = 'RTX2080Ti'\n",
    "\n",
    "for index in range(10):\n",
    "    start_num = index*100 + 1\n",
    "    res = requests.get(url + query + options + str(start_num), headers = naver_header )\n",
    "    if res.status_code == 200:\n",
    "        data = res.json()\n",
    "        for item in data['items']:\n",
    "            ws1.append([item['title'], item['link'], item['lprice']])\n",
    "\n",
    "cell_A1 = ws1['A1'] # A1 셀정보를 가져옴\n",
    "cell_A1.alignment = openpyxl.styles.Alignment(horizontal = 'center') # A1 셀 가운데 정렬\n",
    "cell_B1 = ws1['B1'] # B1 셀정보를 가져옴\n",
    "cell_B1.alignment = openpyxl.styles.Alignment(horizontal = 'center') # B1 셀 가운데 정렬\n",
    "cell_C1 = ws1['C1'] # C1 셀정보를 가져옴\n",
    "cell_C1.alignment = openpyxl.styles.Alignment(horizontal = 'center') # C1 셀 가운데 정렬\n",
    "                                    \n",
    "            \n",
    "naver_shop_excel_file.save('naver_shop.xlsx')\n",
    "naver_shop_excel_file.close()"
   ]
  },
  {
   "cell_type": "markdown",
   "metadata": {},
   "source": [
    "결과 : \n",
    "\n",
    "\n",
    "![13](https://user-images.githubusercontent.com/53929665/92602249-df3ef100-f2e8-11ea-8a00-ac33f43b24ca.JPG)\n"
   ]
  }
 ],
 "metadata": {
  "kernelspec": {
   "display_name": "Python 3",
   "language": "python",
   "name": "python3"
  },
  "language_info": {
   "codemirror_mode": {
    "name": "ipython",
    "version": 3
   },
   "file_extension": ".py",
   "mimetype": "text/x-python",
   "name": "python",
   "nbconvert_exporter": "python",
   "pygments_lexer": "ipython3",
   "version": "3.7.7"
  }
 },
 "nbformat": 4,
 "nbformat_minor": 4
}
