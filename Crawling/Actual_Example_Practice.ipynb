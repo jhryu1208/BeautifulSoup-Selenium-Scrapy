{
 "cells": [
  {
   "cell_type": "markdown",
   "metadata": {},
   "source": [
    "### (1) 연습1. 네이버 쇼핑 BEST 100 실시간 검색어 가져오기"
   ]
  },
  {
   "cell_type": "code",
   "execution_count": 20,
   "metadata": {},
   "outputs": [
    {
     "name": "stdout",
     "output_type": "stream",
     "text": [
      "1위 : KF94 마스크\n",
      "2위 : 마스크 스트랩\n",
      "3위 : 헤드셋\n",
      "4위 : 면도기\n",
      "5위 : 마스크\n",
      "6위 : 비접촉 체온계\n",
      "7위 : 닌텐도 스위치\n",
      "8위 : KF80 마스크\n",
      "9위 : 보석십자수\n",
      "10위 : 에어팟 프로\n"
     ]
    }
   ],
   "source": [
    "import requests\n",
    "from bs4 import BeautifulSoup\n",
    "\n",
    "headers = {'User-Agent':'Mozilla/5.0 (Windows NT 6.3; Win64; x64) AppleWebKit/537.36 (KHTML, like Gecko) Chrome/63.0.3239.132 Safari/537.36'}\n",
    "\n",
    "res = requests.get('https://search.shopping.naver.com/best100v2/main.nhn', headers = headers)\n",
    "soup = BeautifulSoup(res.content, 'html.parser')\n",
    "\n",
    "ul = soup.find(id = 'popular_srch_lst')\n",
    "a = ul.select('a._popular_srch_lst_li')\n",
    "\n",
    "for index,item in enumerate(a):\n",
    "    print (str(index + 1) +'위 : ' + item.get_text())"
   ]
  },
  {
   "cell_type": "markdown",
   "metadata": {},
   "source": [
    "### (2) 네이버 주식 사이트 인기 검색 종목 가져오기"
   ]
  },
  {
   "cell_type": "code",
   "execution_count": 36,
   "metadata": {},
   "outputs": [
    {
     "name": "stdout",
     "output_type": "stream",
     "text": [
      "1위 : 진원생명과학\n",
      "2위 : 삼성전자\n",
      "3위 : 카카오\n",
      "4위 : 삼성전자우\n",
      "5위 : KT&G\n",
      "6위 : NAVER\n",
      "7위 : 두산중공업\n",
      "8위 : SK텔레콤\n",
      "9위 : 이크레더블\n",
      "10위 : LG화학\n",
      "11위 : 고려신용정보\n",
      "12위 : 신풍제약\n",
      "13위 : SK하이닉스\n",
      "14위 : 맥쿼리인프라\n",
      "15위 : 엑세스바이오\n",
      "16위 : 알서포트\n",
      "17위 : 씨젠\n",
      "18위 : 현대차\n",
      "19위 : LG생활건강\n",
      "20위 : 신영증권우\n",
      "21위 : 제넥신\n",
      "22위 : 미래에셋대우2우B\n",
      "23위 : 셀트리온\n",
      "24위 : 롯데리츠\n",
      "25위 : 삼성바이오로직스\n",
      "26위 : KB금융\n",
      "27위 : 바이넥스\n",
      "28위 : 현대모비스\n",
      "29위 : 제노포커스\n",
      "30위 : 우양\n"
     ]
    }
   ],
   "source": [
    "import requests\n",
    "from bs4 import BeautifulSoup\n",
    "\n",
    "headers = {'User-Agent':'Mozilla/5.0 (Windows NT 6.3; Win64; x64) AppleWebKit/537.36 (KHTML, like Gecko) Chrome/63.0.3239.132 Safari/537.36'}\n",
    "\n",
    "res = requests.get('https://finance.naver.com/sise/lastsearch2.nhn', headers = headers)\n",
    "soup = BeautifulSoup(res.content, 'html.parser')\n",
    "\n",
    "div = soup.find('div', 'box_type_l')\n",
    "a = div.select('table a')\n",
    "\n",
    "for index,item in enumerate(a):\n",
    "    print (str(index + 1) +'위 : ' + item.get_text())"
   ]
  },
  {
   "cell_type": "markdown",
   "metadata": {},
   "source": [
    "### (3) 환율"
   ]
  },
  {
   "cell_type": "code",
   "execution_count": 76,
   "metadata": {},
   "outputs": [
    {
     "name": "stdout",
     "output_type": "stream",
     "text": [
      "미국 USD:1,183.00\n",
      "\n",
      "유럽연합 EUR:1,408.07\n",
      "\n",
      "일본 JPY (100엔):1,122.87\n",
      "\n",
      "중국 CNY:172.36\n",
      "\n",
      "홍콩 HKD:152.64\n",
      "\n",
      "대만 TWD:40.30\n",
      "\n",
      "영국 GBP:1,573.92\n",
      "\n",
      "오만 OMR:3,072.73\n",
      "\n",
      "캐나다 CAD:905.61\n",
      "\n",
      "스위스 CHF:1,309.57\n",
      "\n",
      "스웨덴 SEK:137.08\n",
      "\n",
      "호주 AUD:866.43\n",
      "\n",
      "뉴질랜드 NZD:792.20\n",
      "\n",
      "체코 CZK:53.71\n",
      "\n",
      "칠레 CLP:1.51\n",
      "\n",
      "터키 TRY:161.46\n",
      "\n",
      "몽골 MNT:0.41\n",
      "\n",
      "이스라엘 ILS:351.31\n",
      "\n",
      "덴마크 DKK:189.16\n",
      "\n",
      "노르웨이 NOK:134.62\n",
      "\n",
      "사우디아라비아 SAR:315.42\n",
      "\n",
      "쿠웨이트 KWD:3,874.12\n",
      "\n",
      "바레인 BHD:3,140.68\n",
      "\n",
      "아랍에미리트 AED:322.07\n",
      "\n",
      "요르단 JOD:1,668.55\n",
      "\n",
      "이집트 EGP:74.54\n",
      "\n",
      "태국 THB:37.98\n",
      "\n",
      "싱가포르 SGD:869.73\n",
      "\n",
      "말레이시아 MYR:284.00\n",
      "\n",
      "인도네시아 IDR 100:8.11\n",
      "\n",
      "카타르 QAR:324.91\n",
      "\n",
      "카자흐스탄 KZT:2.81\n",
      "\n",
      "브루나이 BND:869.73\n",
      "\n",
      "인도 INR:16.14\n",
      "\n",
      "파키스탄 PKR:7.07\n",
      "\n",
      "방글라데시 BDT:13.95\n",
      "\n",
      "필리핀 PHP:24.42\n",
      "\n",
      "멕시코 MXN:53.99\n",
      "\n",
      "브라질 BRL:212.39\n",
      "\n",
      "베트남 VND 100:5.10\n",
      "\n",
      "남아프리카 공화국 ZAR:70.74\n",
      "\n",
      "러시아 RUB:15.92\n",
      "\n",
      "헝가리 HUF:3.96\n",
      "\n",
      "폴란드 PLN:320.49\n",
      "\n"
     ]
    }
   ],
   "source": [
    "import requests\n",
    "from bs4 import BeautifulSoup\n",
    "\n",
    "headers = {'User-Agent':'Mozilla/5.0 (Windows NT 6.3; Win64; x64) AppleWebKit/537.36 (KHTML, like Gecko) Chrome/63.0.3239.132 Safari/537.36'}\n",
    "\n",
    "res = requests.get('https://finance.naver.com/marketindex/exchangeList.nhn', headers = headers)\n",
    "soup = BeautifulSoup(res.content, 'html.parser')\n",
    "\n",
    "title = soup.select('td.tit')\n",
    "sale = soup.select('td.sale')\n",
    "\n",
    "for index, item in enumerate(sale):\n",
    "    print(title[index].get_text().strip()+ ':' + item.get_text() )\n",
    "    print()"
   ]
  }
 ],
 "metadata": {
  "kernelspec": {
   "display_name": "Python 3",
   "language": "python",
   "name": "python3"
  },
  "language_info": {
   "codemirror_mode": {
    "name": "ipython",
    "version": 3
   },
   "file_extension": ".py",
   "mimetype": "text/x-python",
   "name": "python",
   "nbconvert_exporter": "python",
   "pygments_lexer": "ipython3",
   "version": "3.7.7"
  }
 },
 "nbformat": 4,
 "nbformat_minor": 4
}
