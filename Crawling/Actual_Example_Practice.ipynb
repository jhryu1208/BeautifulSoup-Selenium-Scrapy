{
 "cells": [
  {
   "cell_type": "markdown",
   "metadata": {},
   "source": [
    "### (1) 연습1. 네이버 쇼핑 BEST 100 실시간 검색어 가져오기"
   ]
  },
  {
   "cell_type": "code",
   "execution_count": 20,
   "metadata": {},
   "outputs": [
    {
     "name": "stdout",
     "output_type": "stream",
     "text": [
      "1위 : KF94 마스크\n",
      "2위 : 마스크 스트랩\n",
      "3위 : 헤드셋\n",
      "4위 : 면도기\n",
      "5위 : 마스크\n",
      "6위 : 비접촉 체온계\n",
      "7위 : 닌텐도 스위치\n",
      "8위 : KF80 마스크\n",
      "9위 : 보석십자수\n",
      "10위 : 에어팟 프로\n"
     ]
    }
   ],
   "source": [
    "import requests\n",
    "from bs4 import BeautifulSoup\n",
    "\n",
    "headers = {'User-Agent':'Mozilla/5.0 (Windows NT 6.3; Win64; x64) AppleWebKit/537.36 (KHTML, like Gecko) Chrome/63.0.3239.132 Safari/537.36'}\n",
    "\n",
    "res = requests.get('https://search.shopping.naver.com/best100v2/main.nhn', headers = headers)\n",
    "soup = BeautifulSoup(res.content, 'html.parser')\n",
    "\n",
    "ul = soup.find(id = 'popular_srch_lst')\n",
    "a = ul.select('a._popular_srch_lst_li')\n",
    "\n",
    "for index,item in enumerate(a):\n",
    "    print (str(index + 1) +'위 : ' + item.get_text())"
   ]
  },
  {
   "cell_type": "markdown",
   "metadata": {},
   "source": [
    "### (2) 네이버 주식 사이트 인기 검색 종목 가져오기"
   ]
  },
  {
   "cell_type": "code",
   "execution_count": 36,
   "metadata": {},
   "outputs": [
    {
     "name": "stdout",
     "output_type": "stream",
     "text": [
      "1위 : 진원생명과학\n",
      "2위 : 삼성전자\n",
      "3위 : 카카오\n",
      "4위 : 삼성전자우\n",
      "5위 : KT&G\n",
      "6위 : NAVER\n",
      "7위 : 두산중공업\n",
      "8위 : SK텔레콤\n",
      "9위 : 이크레더블\n",
      "10위 : LG화학\n",
      "11위 : 고려신용정보\n",
      "12위 : 신풍제약\n",
      "13위 : SK하이닉스\n",
      "14위 : 맥쿼리인프라\n",
      "15위 : 엑세스바이오\n",
      "16위 : 알서포트\n",
      "17위 : 씨젠\n",
      "18위 : 현대차\n",
      "19위 : LG생활건강\n",
      "20위 : 신영증권우\n",
      "21위 : 제넥신\n",
      "22위 : 미래에셋대우2우B\n",
      "23위 : 셀트리온\n",
      "24위 : 롯데리츠\n",
      "25위 : 삼성바이오로직스\n",
      "26위 : KB금융\n",
      "27위 : 바이넥스\n",
      "28위 : 현대모비스\n",
      "29위 : 제노포커스\n",
      "30위 : 우양\n"
     ]
    }
   ],
   "source": [
    "import requests\n",
    "from bs4 import BeautifulSoup\n",
    "\n",
    "headers = {'User-Agent':'Mozilla/5.0 (Windows NT 6.3; Win64; x64) AppleWebKit/537.36 (KHTML, like Gecko) Chrome/63.0.3239.132 Safari/537.36'}\n",
    "\n",
    "res = requests.get('https://finance.naver.com/sise/lastsearch2.nhn', headers = headers)\n",
    "soup = BeautifulSoup(res.content, 'html.parser')\n",
    "\n",
    "div = soup.find('div', 'box_type_l')\n",
    "a = div.select('table a')\n",
    "\n",
    "for index,item in enumerate(a):\n",
    "    print (str(index + 1) +'위 : ' + item.get_text())"
   ]
  }
 ],
 "metadata": {
  "kernelspec": {
   "display_name": "Python 3",
   "language": "python",
   "name": "python3"
  },
  "language_info": {
   "codemirror_mode": {
    "name": "ipython",
    "version": 3
   },
   "file_extension": ".py",
   "mimetype": "text/x-python",
   "name": "python",
   "nbconvert_exporter": "python",
   "pygments_lexer": "ipython3",
   "version": "3.7.7"
  }
 },
 "nbformat": 4,
 "nbformat_minor": 4
}
