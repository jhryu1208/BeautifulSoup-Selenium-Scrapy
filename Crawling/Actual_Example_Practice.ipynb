{
 "cells": [
  {
   "cell_type": "markdown",
   "metadata": {},
   "source": [
    "### (1) 연습1. 네이버 쇼핑 BEST 100 실시간 검색어 가져오기"
   ]
  },
  {
   "cell_type": "code",
   "execution_count": 20,
   "metadata": {},
   "outputs": [
    {
     "name": "stdout",
     "output_type": "stream",
     "text": [
      "1위 : KF94 마스크\n",
      "2위 : 마스크 스트랩\n",
      "3위 : 헤드셋\n",
      "4위 : 면도기\n",
      "5위 : 마스크\n",
      "6위 : 비접촉 체온계\n",
      "7위 : 닌텐도 스위치\n",
      "8위 : KF80 마스크\n",
      "9위 : 보석십자수\n",
      "10위 : 에어팟 프로\n"
     ]
    }
   ],
   "source": [
    "import requests\n",
    "from bs4 import BeautifulSoup\n",
    "\n",
    "headers = {'User-Agent':'Mozilla/5.0 (Windows NT 6.3; Win64; x64) AppleWebKit/537.36 (KHTML, like Gecko) Chrome/63.0.3239.132 Safari/537.36'}\n",
    "\n",
    "res = requests.get('https://search.shopping.naver.com/best100v2/main.nhn', headers = headers)\n",
    "soup = BeautifulSoup(res.content, 'html.parser')\n",
    "\n",
    "ul = soup.find(id = 'popular_srch_lst')\n",
    "a = ul.select('a._popular_srch_lst_li')\n",
    "\n",
    "for index,item in enumerate(a):\n",
    "    print (str(index + 1) +'위 : ' + item.get_text())"
   ]
  },
  {
   "cell_type": "markdown",
   "metadata": {},
   "source": [
    "### (2) 네이버 주식 사이트 인기 검색 종목 가져오기"
   ]
  },
  {
   "cell_type": "code",
   "execution_count": 36,
   "metadata": {},
   "outputs": [
    {
     "name": "stdout",
     "output_type": "stream",
     "text": [
      "1위 : 진원생명과학\n",
      "2위 : 삼성전자\n",
      "3위 : 카카오\n",
      "4위 : 삼성전자우\n",
      "5위 : KT&G\n",
      "6위 : NAVER\n",
      "7위 : 두산중공업\n",
      "8위 : SK텔레콤\n",
      "9위 : 이크레더블\n",
      "10위 : LG화학\n",
      "11위 : 고려신용정보\n",
      "12위 : 신풍제약\n",
      "13위 : SK하이닉스\n",
      "14위 : 맥쿼리인프라\n",
      "15위 : 엑세스바이오\n",
      "16위 : 알서포트\n",
      "17위 : 씨젠\n",
      "18위 : 현대차\n",
      "19위 : LG생활건강\n",
      "20위 : 신영증권우\n",
      "21위 : 제넥신\n",
      "22위 : 미래에셋대우2우B\n",
      "23위 : 셀트리온\n",
      "24위 : 롯데리츠\n",
      "25위 : 삼성바이오로직스\n",
      "26위 : KB금융\n",
      "27위 : 바이넥스\n",
      "28위 : 현대모비스\n",
      "29위 : 제노포커스\n",
      "30위 : 우양\n"
     ]
    }
   ],
   "source": [
    "import requests\n",
    "from bs4 import BeautifulSoup\n",
    "\n",
    "headers = {'User-Agent':'Mozilla/5.0 (Windows NT 6.3; Win64; x64) AppleWebKit/537.36 (KHTML, like Gecko) Chrome/63.0.3239.132 Safari/537.36'}\n",
    "\n",
    "res = requests.get('https://finance.naver.com/sise/lastsearch2.nhn', headers = headers)\n",
    "soup = BeautifulSoup(res.content, 'html.parser')\n",
    "\n",
    "div = soup.find('div', 'box_type_l')\n",
    "a = div.select('table a')\n",
    "\n",
    "for index,item in enumerate(a):\n",
    "    print (str(index + 1) +'위 : ' + item.get_text())"
   ]
  },
  {
   "cell_type": "markdown",
   "metadata": {},
   "source": [
    "### (3) 환율"
   ]
  },
  {
   "cell_type": "code",
   "execution_count": 77,
   "metadata": {},
   "outputs": [
    {
     "name": "stdout",
     "output_type": "stream",
     "text": [
      "미국 USD : 1,183.00\n",
      "\n",
      "유럽연합 EUR : 1,408.07\n",
      "\n",
      "일본 JPY (100엔) : 1,122.87\n",
      "\n",
      "중국 CNY : 172.36\n",
      "\n",
      "홍콩 HKD : 152.64\n",
      "\n",
      "대만 TWD : 40.30\n",
      "\n",
      "영국 GBP : 1,573.92\n",
      "\n",
      "오만 OMR : 3,072.73\n",
      "\n",
      "캐나다 CAD : 905.61\n",
      "\n",
      "스위스 CHF : 1,309.57\n",
      "\n",
      "스웨덴 SEK : 137.08\n",
      "\n",
      "호주 AUD : 866.43\n",
      "\n",
      "뉴질랜드 NZD : 792.20\n",
      "\n",
      "체코 CZK : 53.71\n",
      "\n",
      "칠레 CLP : 1.51\n",
      "\n",
      "터키 TRY : 161.46\n",
      "\n",
      "몽골 MNT : 0.41\n",
      "\n",
      "이스라엘 ILS : 351.31\n",
      "\n",
      "덴마크 DKK : 189.16\n",
      "\n",
      "노르웨이 NOK : 134.62\n",
      "\n",
      "사우디아라비아 SAR : 315.42\n",
      "\n",
      "쿠웨이트 KWD : 3,874.12\n",
      "\n",
      "바레인 BHD : 3,140.68\n",
      "\n",
      "아랍에미리트 AED : 322.07\n",
      "\n",
      "요르단 JOD : 1,668.55\n",
      "\n",
      "이집트 EGP : 74.54\n",
      "\n",
      "태국 THB : 37.98\n",
      "\n",
      "싱가포르 SGD : 869.73\n",
      "\n",
      "말레이시아 MYR : 284.00\n",
      "\n",
      "인도네시아 IDR 100 : 8.11\n",
      "\n",
      "카타르 QAR : 324.91\n",
      "\n",
      "카자흐스탄 KZT : 2.81\n",
      "\n",
      "브루나이 BND : 869.73\n",
      "\n",
      "인도 INR : 16.14\n",
      "\n",
      "파키스탄 PKR : 7.07\n",
      "\n",
      "방글라데시 BDT : 13.95\n",
      "\n",
      "필리핀 PHP : 24.42\n",
      "\n",
      "멕시코 MXN : 53.99\n",
      "\n",
      "브라질 BRL : 212.39\n",
      "\n",
      "베트남 VND 100 : 5.10\n",
      "\n",
      "남아프리카 공화국 ZAR : 70.74\n",
      "\n",
      "러시아 RUB : 15.92\n",
      "\n",
      "헝가리 HUF : 3.96\n",
      "\n",
      "폴란드 PLN : 320.49\n",
      "\n"
     ]
    }
   ],
   "source": [
    "import requests\n",
    "from bs4 import BeautifulSoup\n",
    "\n",
    "headers = {'User-Agent':'Mozilla/5.0 (Windows NT 6.3; Win64; x64) AppleWebKit/537.36 (KHTML, like Gecko) Chrome/63.0.3239.132 Safari/537.36'}\n",
    "\n",
    "res = requests.get('https://finance.naver.com/marketindex/exchangeList.nhn', headers = headers)\n",
    "soup = BeautifulSoup(res.content, 'html.parser')\n",
    "\n",
    "title = soup.select('td.tit')\n",
    "sale = soup.select('td.sale')\n",
    "\n",
    "for index, item in enumerate(sale):\n",
    "    print(title[index].get_text().strip()+ ' : ' + item.get_text() )\n",
    "    print()"
   ]
  },
  {
   "cell_type": "markdown",
   "metadata": {},
   "source": [
    "### (4) 닥터아파트 분양뉴스에서 금일자 뉴스 타이틀 가져오기"
   ]
  },
  {
   "cell_type": "code",
   "execution_count": 6,
   "metadata": {},
   "outputs": [
    {
     "name": "stdout",
     "output_type": "stream",
     "text": [
      " 3기신도시 밑그림 완성…내년부터 6만가구 사전청약\n",
      " 6만명 청약몰린 수색뉴타운…`DMC 3총사` 70점돼야 안심\n",
      " 규제묶이자…평택·인천 청약 차갑게 식는다\n",
      " 원베일리 분양가 5500만원? 4382만원?…정부 마음에 달렸다\n",
      " 지분형분양도 공공주도…결국 또 혈세투입?\n",
      " 내년 2월 수도권 민간택지 분양가상한제 주택 2~3년 거주의무\n",
      " 정부, 유휴부지 등 개발 속도내나…택지개발된 과천청사 내년 ..\n",
      " 뒤통수 맞은 50대 \"정부믿고 착실히 청약가점 쌓았는데…\"\n",
      " \"분양가 더 낮아지나\" 민간택지 분양가상한제 29일 본격 부활\n",
      " SH공사, 공공분양 건설원가 공개키로…업계 파장\n",
      " \"5억 로또는 우리 것\"…세대간 전쟁터 된 청약\n",
      " \"정부 믿고 20년 청약저축했는데\"…4050분노\n",
      " 30대 절규 이제야 들렸나…생애최초·신혼부부 특공 확대\n",
      " `124대1` 고덕강일 공공분양, 매월 10만원씩 18년 부어야 당첨\n",
      " \"입주 코앞인데 잔금대출 40%로 묶어\" 분양자들 날벼락\n"
     ]
    }
   ],
   "source": [
    "import requests\n",
    "from bs4 import BeautifulSoup\n",
    "\n",
    "res = requests.get('http://www.drapt.com/e_sale/index.htm?page_name=esale_news&menu_key=34')\n",
    "soup = BeautifulSoup(res.content, 'html.parser')\n",
    "\n",
    "p = soup.select('a.c0000000')\n",
    "\n",
    "for item in p:\n",
    "    print(item.get_text())"
   ]
  },
  {
   "cell_type": "markdown",
   "metadata": {},
   "source": [
    "#### [ 페이지 이동을 고려한 크롤링 ]\n",
    "- 페이지 이동을 고려하여 크롤링을 진행할때는 해당 페이지의 URL 패턴을 파악해야한다.\n",
    "- 해당 사진은 닥터아파트 분양뉴스의 페이지별 URL 이다.\n",
    "    ![6](https://user-images.githubusercontent.com/53929665/91991102-7649fd00-ed6d-11ea-9f5c-18a2755d4eb5.JPG)\n",
    "\n",
    "- 위 사진에서 2페이지 ~ 4페이지 사이에서 유사한 패턴을 확인 할 수 있다.\n",
    "- 더불어, http://www.drapt.com/e_sale/index.htm?page_name=esale_news&menu_key=34&view_count=15&mode=&field=&s_que=&okey=wdate&start=0 이라고 검색했을시, 1페이지가 링크되는 것을 확인할 수 있다.\n",
    "- 따라서, URL의 끝자리가 15의 배수 순으로 나뉘어지는 패턴을 발견할 수 있다."
   ]
  },
  {
   "cell_type": "code",
   "execution_count": 9,
   "metadata": {},
   "outputs": [
    {
     "name": "stdout",
     "output_type": "stream",
     "text": [
      "page1\n",
      " 3기신도시 밑그림 완성…내년부터 6만가구 사전청약\n",
      " 6만명 청약몰린 수색뉴타운…`DMC 3총사` 70점돼야 안심\n",
      " 규제묶이자…평택·인천 청약 차갑게 식는다\n",
      " 원베일리 분양가 5500만원? 4382만원?…정부 마음에 달렸다\n",
      " 지분형분양도 공공주도…결국 또 혈세투입?\n",
      " 내년 2월 수도권 민간택지 분양가상한제 주택 2~3년 거주의무\n",
      " 정부, 유휴부지 등 개발 속도내나…택지개발된 과천청사 내년 ..\n",
      " 뒤통수 맞은 50대 \"정부믿고 착실히 청약가점 쌓았는데…\"\n",
      " \"분양가 더 낮아지나\" 민간택지 분양가상한제 29일 본격 부활\n",
      " SH공사, 공공분양 건설원가 공개키로…업계 파장\n",
      " \"5억 로또는 우리 것\"…세대간 전쟁터 된 청약\n",
      " \"정부 믿고 20년 청약저축했는데\"…4050분노\n",
      " 30대 절규 이제야 들렸나…생애최초·신혼부부 특공 확대\n",
      " `124대1` 고덕강일 공공분양, 매월 10만원씩 18년 부어야 당첨\n",
      " \"입주 코앞인데 잔금대출 40%로 묶어\" 분양자들 날벼락\n",
      "page2\n",
      " \"분양전환하니 6억 로또\"…미사 부영아파트\n",
      " 강남구 분양가 또 `4750만원`\n",
      " 잔금대출은 어찌하나…6.17대책에 청약 당첨되도 발동동\n",
      " 가점 모자라, 추첨 없어져…`청포족` 된 30대, 울분의 매수\n",
      " 둔촌주공 분양가 3천만원 넘길 듯\n",
      " 투기판 된 청약…서울아파트 99대1\n",
      " \"당첨되면 10억…이정도 불법쯤이야\"…적발된 가짜임신진단서만..\n",
      " HUG 분양가 규제…수억원 차익 `로또 청약`에 전국이 들썩\n",
      " 5월 초 분양했던 고양 덕은 자이아파트, 미계약물량 `우수수`\n",
      " `규제 시작되기 전에 아파트 마련하자`…전국에 청약 광풍\n",
      " 서울 아닌 곳도 뜨거운 청약 열기…화성 동탄역헤리엇 150대 1\n",
      " 9억 넘는 분양가에 대출 막혀…`그림의 떡` 청약\n",
      " 수원에도 청약 부적격자 우수수…영통자이도 `줍줍`\n",
      " 흑석리버파크자이 청약가점 만점 등장…서울서 1년 반만에 처음\n",
      " 앞으로 수도권 모든 공공분양 최대 5년 거주 의무…못채우면 환..\n",
      "page3\n",
      " 수원 분양가도 최고가 경신\n",
      " 규제 강화·코로나에도 청약 열기…흑석동 GS자이 96대 1\n",
      " 결혼 7년 지나도 늦둥이 있으면 신혼희망타운 분양받는다\n",
      " 유자녀 부부 신혼희망타운 청약해도 신혼부부 디딤돌대출은 안..\n",
      " 위례서 마지막 민간분양…서울·경기 공공택지 막판 청약률은\n",
      " 높은 분양가에…\"가점 10점대 1인가구도 당첨\"\n",
      " 시세10억 하남 아파트가 5억에 나왔다\n",
      " 주택공급 확대·전매제한 강화 발표에도 청약시장 여전히…\n",
      " \"분양권전매 막차타자\"…통장 5만개 몰렸다\n",
      " \"분양권 규제전에…\" 송도 줍줍 몰려든 6만명\n",
      " 공공분양 사전청약 해볼까…남양주·하남·과천·인천 첫선\n",
      " 10년간 재당첨 금지…서울 청약규제 첫 적용\n",
      " 수도권 3기 신도시 조기 분양한다…내년 9천가구 사전청약\n",
      " 위례 2건 `줍줍`에…현금 16억 들고 4천명 달려왔다\n",
      " 인천등 비규제지역 청약열기…`강남급`가점\n",
      "page4\n",
      " 지역주택조합 아파트도 후분양 나온다\n",
      " 코로나 무색한 아파트 청약 열기…연초 분양 75%가 1순위 마감\n",
      " 서울·과천·분당 2년 살아야 청약1순위 자격\n",
      " `로또청약` 후폭풍…과천 10명중 3명 부적격자\n",
      " 서울·과천보다 비싼 고양 분양가…고무줄 잣대 논란 재점화\n",
      " 고양 고무줄 분양가…1900만원 vs 2630만원\n",
      " `미분양 무덤`이었던 인천 검단도 청약 열풍…최고경쟁률 경신\n",
      " 한곳 오래살수록 아파트 청약 유리해지나…거주기간 가점 검토\n",
      " 수도권 비규제 청약 인기라지만…분양가 시세보다 더 비싸\n",
      " 이달 중순부터 수도권 청약1순위 거주기간 1년→2년 강화\n",
      " 로또분양 현금부자 독식…\"채권입찰제 필요\"\n",
      " 서울 10곳 6천가구 더…상한제 피해 분양\n",
      " 앞으로 1년간은 급매 잡을 기회\n",
      " \"무주택자인데…투기꾼 취급\" 청약 1순위 원안 확정에 실수요자..\n",
      " 16일부터 수도권·광역시 예비당첨자 비율 40%→300% 확대\n"
     ]
    }
   ],
   "source": [
    "import requests\n",
    "from bs4 import BeautifulSoup\n",
    "\n",
    "for index in range(4):\n",
    "    res = requests.get('http://www.drapt.com/e_sale/index.htm?page_name=esale_news&menu_key=34&view_count=15&mode=&field=&s_que=&okey=wdate&start=' + str(index*15))\n",
    "    soup = BeautifulSoup(res.content, 'html.parser')\n",
    "\n",
    "    a = soup.select('a.c0000000')\n",
    "    \n",
    "    print('page' + str(index+1))\n",
    "    \n",
    "    for item in a:\n",
    "        print(item.get_text())"
   ]
  },
  {
   "cell_type": "markdown",
   "metadata": {},
   "source": [
    "#### [ 다음 소스와 같이 클래스가 여러개인 경우 ]\n",
    "- 해당 소스에서는 class가 ffth, fs11, c807f7f 총 3개의 클래스로 이루어진 것을 확인 할 수 있다.\n",
    "```python\n",
    "<span class=\"ffth fs11 c807f7f\">2020-09-01</span>\n",
    "```\n",
    "\n",
    "- 위 소스는 아래와 같이 크롤링한다."
   ]
  },
  {
   "cell_type": "code",
   "execution_count": 16,
   "metadata": {},
   "outputs": [
    {
     "name": "stdout",
     "output_type": "stream",
     "text": [
      "2020-09-01 =>  3기신도시 밑그림 완성…내년부터 6만가구 사전청약\n",
      "2020-08-27 =>  6만명 청약몰린 수색뉴타운…`DMC 3총사` 70점돼야 안심\n",
      "2020-08-26 =>  규제묶이자…평택·인천 청약 차갑게 식는다\n",
      "2020-08-19 =>  원베일리 분양가 5500만원? 4382만원?…정부 마음에 달렸다\n",
      "2020-08-13 =>  지분형분양도 공공주도…결국 또 혈세투입?\n",
      "2020-08-12 =>  내년 2월 수도권 민간택지 분양가상한제 주택 2~3년 거주의무\n",
      "2020-08-11 =>  정부, 유휴부지 등 개발 속도내나…택지개발된 과천청사 내년 ..\n",
      "2020-08-07 =>  뒤통수 맞은 50대 \"정부믿고 착실히 청약가점 쌓았는데…\"\n",
      "2020-07-30 =>  \"분양가 더 낮아지나\" 민간택지 분양가상한제 29일 본격 부활\n",
      "2020-07-29 =>  SH공사, 공공분양 건설원가 공개키로…업계 파장\n",
      "2020-07-27 =>  \"5억 로또는 우리 것\"…세대간 전쟁터 된 청약\n",
      "2020-07-13 =>  \"정부 믿고 20년 청약저축했는데\"…4050분노\n",
      "2020-07-07 =>  30대 절규 이제야 들렸나…생애최초·신혼부부 특공 확대\n",
      "2020-06-30 =>  `124대1` 고덕강일 공공분양, 매월 10만원씩 18년 부어야 당첨\n",
      "2020-06-26 =>  \"입주 코앞인데 잔금대출 40%로 묶어\" 분양자들 날벼락\n"
     ]
    }
   ],
   "source": [
    "import requests\n",
    "from bs4 import BeautifulSoup\n",
    "\n",
    "res = requests.get('http://www.drapt.com/e_sale/index.htm?page_name=esale_news&menu_key=34')\n",
    "soup = BeautifulSoup(res.content, 'html.parser')\n",
    "\n",
    "title_a = soup.select('a.c0000000')    \n",
    "date_span = soup.select('span.ffth.fs11.c807f7f')\n",
    "\n",
    "for num, title in enumerate(title_a):\n",
    "    print(date_span[num].get_text(),'=>', title.get_text())"
   ]
  }
 ],
 "metadata": {
  "kernelspec": {
   "display_name": "Python 3",
   "language": "python",
   "name": "python3"
  },
  "language_info": {
   "codemirror_mode": {
    "name": "ipython",
    "version": 3
   },
   "file_extension": ".py",
   "mimetype": "text/x-python",
   "name": "python",
   "nbconvert_exporter": "python",
   "pygments_lexer": "ipython3",
   "version": "3.7.7"
  }
 },
 "nbformat": 4,
 "nbformat_minor": 4
}
